{
 "cells": [
  {
   "cell_type": "code",
   "execution_count": null,
   "id": "cbff44f6",
   "metadata": {},
   "outputs": [],
   "source": [
    "%reload_ext streamingcli.jupyter.integrations"
   ]
  },
  {
   "cell_type": "code",
   "execution_count": null,
   "id": "ddc31364",
   "metadata": {},
   "outputs": [],
   "source": [
    "%%flink_execute_sql\n",
    "CREATE TABLE datagen (\n",
    "    id INT\n",
    ") WITH (\n",
    "    'connector' = 'datagen',\n",
    "    'number-of-rows' = '10'\n",
    ")"
   ]
  },
  {
   "cell_type": "code",
   "execution_count": null,
   "id": "637f4c4f",
   "metadata": {},
   "outputs": [],
   "source": [
    "## Writing to a `filename.txt` while filtering with UDF"
   ]
  },
  {
   "cell_type": "code",
   "execution_count": null,
   "id": "46305526",
   "metadata": {},
   "outputs": [],
   "source": [
    "from pyflink.table.udf import udf\n",
    "from pyflink.table import DataTypes\n",
    "import sys\n",
    "\n",
    "@udf(result_type=DataTypes.BOOLEAN())\n",
    "def filter_print(condition, message):\n",
    "    with open('filename.txt', 'a+') as f:\n",
    "        print(f'{message}', file=f)\n",
    "    return condition"
   ]
  },
  {
   "cell_type": "code",
   "execution_count": null,
   "id": "985a7a34",
   "metadata": {},
   "outputs": [],
   "source": [
    "%flink_register_function --function_name filter_print --object_name filter_print "
   ]
  },
  {
   "cell_type": "code",
   "execution_count": null,
   "id": "cf7d61cc",
   "metadata": {},
   "outputs": [],
   "source": [
    "%%flink_query_sql\n",
    "select * from datagen WHERE filter_print(true, id)"
   ]
  },
  {
   "cell_type": "code",
   "execution_count": null,
   "id": "0afb4370",
   "metadata": {},
   "outputs": [],
   "source": []
  }
 ],
 "metadata": {
  "kernelspec": {
   "display_name": "Python 3 (ipykernel)",
   "language": "python",
   "name": "python3"
  },
  "language_info": {
   "codemirror_mode": {
    "name": "ipython",
    "version": 3
   },
   "file_extension": ".py",
   "mimetype": "text/x-python",
   "name": "python",
   "nbconvert_exporter": "python",
   "pygments_lexer": "ipython3",
   "version": "3.8.3"
  }
 },
 "nbformat": 4,
 "nbformat_minor": 5
}
