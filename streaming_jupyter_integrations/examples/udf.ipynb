{
 "cells": [
  {
   "cell_type": "code",
   "execution_count": null,
   "id": "56c1b557",
   "metadata": {},
   "outputs": [],
   "source": [
    "%reload_ext streamingcli.jupyter.integrations"
   ]
  },
  {
   "cell_type": "code",
   "execution_count": null,
   "id": "914bea5f",
   "metadata": {},
   "outputs": [],
   "source": [
    "%%flink_execute_sql\n",
    "CREATE TABLE datagen (\n",
    "    id INT\n",
    ") WITH (\n",
    "    'connector' = 'datagen',\n",
    "    'number-of-rows' = '10'\n",
    ")"
   ]
  },
  {
   "cell_type": "code",
   "execution_count": null,
   "id": "2bbb7bce",
   "metadata": {},
   "outputs": [],
   "source": [
    "## Writing to a `filename.txt` while filtering with UDF"
   ]
  },
  {
   "cell_type": "code",
   "execution_count": null,
   "id": "a54cdac0",
   "metadata": {
    "tags": [
     "udf"
    ]
   },
   "outputs": [],
   "source": [
    "from pyflink.table.udf import udf\n",
    "from pyflink.table import DataTypes\n",
    "import sys\n",
    "\n",
    "@udf(result_type=DataTypes.BOOLEAN())\n",
    "def filter_print(condition, message):\n",
    "    with open('filename.txt', 'a+') as f:\n",
    "        print(f'{message}', file=f)\n",
    "    return condition"
   ]
  },
  {
   "cell_type": "code",
   "execution_count": null,
   "id": "0641c4a7",
   "metadata": {},
   "outputs": [],
   "source": [
    "%flink_register_function --function_name filter_print --object_name filter_print "
   ]
  },
  {
   "cell_type": "code",
   "execution_count": null,
   "id": "8436640d",
   "metadata": {},
   "outputs": [],
   "source": [
    "%%flink_query_sql\n",
    "select * from datagen WHERE filter_print(true, id)"
   ]
  },
  {
   "cell_type": "code",
   "execution_count": null,
   "id": "6938d1bc",
   "metadata": {},
   "outputs": [],
   "source": []
  }
 ],
 "metadata": {
  "celltoolbar": "Tags",
  "interpreter": {
   "hash": "5e298b3215ee7f4e95b1172e93deec786f1c8a888c2b24d9520fb978679fd487"
  },
  "kernelspec": {
   "display_name": "Python 3",
   "language": "python",
   "name": "python3"
  },
  "language_info": {
   "codemirror_mode": {
    "name": "ipython",
    "version": 3
   },
   "file_extension": ".py",
   "mimetype": "text/x-python",
   "name": "python",
   "nbconvert_exporter": "python",
   "pygments_lexer": "ipython3",
   "version": "3.8.12"
  }
 },
 "nbformat": 4,
 "nbformat_minor": 5
}
