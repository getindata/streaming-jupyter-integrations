{
 "cells": [
  {
   "cell_type": "code",
   "execution_count": null,
   "id": "b52c76df",
   "metadata": {},
   "outputs": [],
   "source": [
    "%reload_ext streaming_jupyter_integrations.magics"
   ]
  },
  {
   "cell_type": "code",
   "execution_count": null,
   "id": "03078738",
   "metadata": {
    "pycharm": {
     "name": "#%%\n"
    }
   },
   "outputs": [],
   "source": [
    "%load_config_file --path ./sample_config.json"
   ]
  },
  {
   "cell_type": "code",
   "execution_count": null,
   "id": "c99e3966",
   "metadata": {},
   "outputs": [],
   "source": [
    "%%flink_execute_sql\n",
    "CREATE TABLE datagen (\n",
    "    id INT\n",
    ") WITH (\n",
    "    'connector' = 'datagen',\n",
    "    'number-of-rows' = '{ maximum_number_of_rows }'\n",
    ")"
   ]
  },
  {
   "cell_type": "code",
   "execution_count": null,
   "id": "97617672",
   "metadata": {},
   "outputs": [],
   "source": [
    "%%flink_execute_sql\n",
    "SHOW TABLES"
   ]
  },
  {
   "cell_type": "code",
   "execution_count": null,
   "id": "1fbb19f0",
   "metadata": {},
   "outputs": [],
   "source": [
    "%%flink_execute_sql\n",
    "SELECT * FROM datagen"
   ]
  },
  {
   "cell_type": "code",
   "execution_count": null,
   "id": "ce9036f2",
   "metadata": {},
   "outputs": [],
   "source": []
  },
  {
   "cell_type": "code",
   "execution_count": null,
   "id": "439223ce",
   "metadata": {},
   "outputs": [],
   "source": []
  }
 ],
 "metadata": {
  "kernelspec": {
   "display_name": "Python 3 (ipykernel)",
   "language": "python",
   "name": "python3"
  },
  "language_info": {
   "codemirror_mode": {
    "name": "ipython",
    "version": 3
   },
   "file_extension": ".py",
   "mimetype": "text/x-python",
   "name": "python",
   "nbconvert_exporter": "python",
   "pygments_lexer": "ipython3",
   "version": "3.8.8"
  }
 },
 "nbformat": 4,
 "nbformat_minor": 5
}
