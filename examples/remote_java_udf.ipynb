{
 "cells": [
  {
   "cell_type": "code",
   "execution_count": null,
   "id": "c4de90db",
   "metadata": {},
   "outputs": [],
   "source": [
    "%reload_ext streaming_jupyter_integrations.magics"
   ]
  },
  {
   "cell_type": "code",
   "execution_count": null,
   "id": "0e8542d9",
   "metadata": {},
   "outputs": [],
   "source": [
    "%flink_connect"
   ]
  },
  {
   "cell_type": "code",
   "execution_count": null,
   "id": "01a3a234",
   "metadata": {},
   "outputs": [],
   "source": [
    "%flink_register_jar --remote_path http://localhost:8982/artifactory/gid/com/getindata/java/0.3/java-0.3.jar"
   ]
  },
  {
   "cell_type": "code",
   "execution_count": null,
   "id": "0701f47f",
   "metadata": {},
   "outputs": [],
   "source": [
    "%flink_register_function --function_name remote_trace --object_name com.getindata.TraceUDF --language java"
   ]
  },
  {
   "cell_type": "code",
   "execution_count": null,
   "id": "2b2819ce",
   "metadata": {},
   "outputs": [],
   "source": [
    "%%flink_execute_sql\n",
    "CREATE TABLE datagen (\n",
    "    id INT\n",
    ") WITH (\n",
    "    'connector' = 'datagen',\n",
    "    'number-of-rows' = '100'\n",
    ")"
   ]
  },
  {
   "cell_type": "code",
   "execution_count": null,
   "id": "9f3f3088",
   "metadata": {},
   "outputs": [],
   "source": [
    "%%flink_execute_sql\n",
    "select * from datagen WHERE remote_trace(true, 'TRACE_ME', id)"
   ]
  }
 ],
 "metadata": {
  "kernelspec": {
   "display_name": "Python 3 (ipykernel)",
   "language": "python",
   "name": "python3"
  },
  "language_info": {
   "codemirror_mode": {
    "name": "ipython",
    "version": 3
   },
   "file_extension": ".py",
   "mimetype": "text/x-python",
   "name": "python",
   "nbconvert_exporter": "python",
   "pygments_lexer": "ipython3",
   "version": "3.8.8"
  }
 },
 "nbformat": 4,
 "nbformat_minor": 5
}
