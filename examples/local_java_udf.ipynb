{
 "cells": [
  {
   "cell_type": "code",
   "execution_count": null,
   "id": "64df3a88",
   "metadata": {},
   "outputs": [],
   "source": [
    "%reload_ext streaming_jupyter_integrations.magics"
   ]
  },
  {
   "cell_type": "code",
   "execution_count": null,
   "id": "1d545395",
   "metadata": {},
   "outputs": [],
   "source": [
    "%flink_connect"
   ]
  },
  {
   "cell_type": "code",
   "execution_count": null,
   "id": "efa43a45",
   "metadata": {},
   "outputs": [],
   "source": [
    "%flink_register_jar --local_path /home/getindata/Desktop/flink/java/target/java-1.0.jar"
   ]
  },
  {
   "cell_type": "code",
   "execution_count": null,
   "id": "e1528fed",
   "metadata": {},
   "outputs": [],
   "source": [
    "%flink_register_function --function_name local_trace --object_name com.getindata.TraceUDF --language java"
   ]
  },
  {
   "cell_type": "code",
   "execution_count": null,
   "id": "abc7420a",
   "metadata": {},
   "outputs": [],
   "source": [
    "%%flink_execute_sql\n",
    "CREATE TABLE datagen (\n",
    "    id INT\n",
    ") WITH (\n",
    "    'connector' = 'datagen',\n",
    "    'number-of-rows' = '100'\n",
    ")"
   ]
  },
  {
   "cell_type": "code",
   "execution_count": null,
   "id": "df107019",
   "metadata": {},
   "outputs": [],
   "source": [
    "%%flink_execute_sql\n",
    "select * from datagen WHERE local_trace(true, 'TRACE_ME', id)"
   ]
  }
 ],
 "metadata": {
  "kernelspec": {
   "display_name": "Python 3 (ipykernel)",
   "language": "python",
   "name": "python3"
  },
  "language_info": {
   "codemirror_mode": {
    "name": "ipython",
    "version": 3
   },
   "file_extension": ".py",
   "mimetype": "text/x-python",
   "name": "python",
   "nbconvert_exporter": "python",
   "pygments_lexer": "ipython3",
   "version": "3.8.8"
  }
 },
 "nbformat": 4,
 "nbformat_minor": 5
}
