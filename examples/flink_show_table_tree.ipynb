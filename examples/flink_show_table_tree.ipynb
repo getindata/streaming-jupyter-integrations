{
 "cells": [
  {
   "cell_type": "code",
   "execution_count": null,
   "id": "1b27ab80",
   "metadata": {},
   "outputs": [],
   "source": [
    "%load_ext streaming_jupyter_integrations.magics"
   ]
  },
  {
   "cell_type": "code",
   "execution_count": null,
   "id": "ac2b72cd",
   "metadata": {},
   "outputs": [],
   "source": [
    "%flink_connect"
   ]
  },
  {
   "cell_type": "code",
   "execution_count": null,
   "id": "77f399d3",
   "metadata": {},
   "outputs": [],
   "source": [
    "%%flink_execute_sql\n",
    "CREATE TABLE users (\n",
    "    id INT PRIMARY KEY,\n",
    "    name VARCHAR,\n",
    "    surname VARCHAR,\n",
    "    age INT\n",
    ") WITH (\n",
    "    'connector' = 'datagen',\n",
    "    'number-of-rows' = '5'\n",
    ");"
   ]
  },
  {
   "cell_type": "code",
   "execution_count": null,
   "id": "467a57fd",
   "metadata": {},
   "outputs": [],
   "source": [
    "%%flink_execute_sql\n",
    "CREATE TABLE orders (\n",
    "    id INT PRIMARY KEY,\n",
    "    user_id INT NOT NULL,\n",
    "    created TIMESTAMP\n",
    ") WITH (\n",
    "    'connector' = 'datagen',\n",
    "    'number-of-rows' = '5'\n",
    ");"
   ]
  },
  {
   "cell_type": "code",
   "execution_count": null,
   "id": "317ee011",
   "metadata": {},
   "outputs": [],
   "source": [
    "%flink_show_table_tree"
   ]
  }
 ],
 "metadata": {
  "kernelspec": {
   "display_name": "Python 3",
   "language": "python",
   "name": "python3"
  },
  "language_info": {
   "codemirror_mode": {
    "name": "ipython",
    "version": 3
   },
   "file_extension": ".py",
   "mimetype": "text/x-python",
   "name": "python",
   "nbconvert_exporter": "python",
   "pygments_lexer": "ipython3",
   "version": "3.8.8"
  }
 },
 "nbformat": 4,
 "nbformat_minor": 5
}
